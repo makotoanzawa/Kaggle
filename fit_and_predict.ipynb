{
 "cells": [
  {
   "cell_type": "code",
   "execution_count": 1,
   "metadata": {},
   "outputs": [],
   "source": [
    "import numpy as np\n",
    "import pandas as pd\n",
    "\n",
    "TRAIN_DATA='./train.csv'\n",
    "TEST_DATA='./test.csv'\n",
    "\n",
    "def load_train_data():\n",
    "    df = pd.read_csv(TRAIN_DATA)\n",
    "    return df\n",
    "\n",
    "def load_test_data():\n",
    "    df = pd.read_csv(TEST_DATA)\n",
    "    return df"
   ]
  },
  {
   "cell_type": "code",
   "execution_count": 14,
   "metadata": {},
   "outputs": [
    {
     "name": "stdout",
     "output_type": "stream",
     "text": [
      "1.0\n"
     ]
    },
    {
     "name": "stderr",
     "output_type": "stream",
     "text": [
      "C:\\Users\\Sai\\Anaconda3\\lib\\site-packages\\sklearn\\preprocessing\\_encoders.py:368: FutureWarning: The handling of integer data will change in version 0.22. Currently, the categories are determined based on the range [0, max(values)], while in the future they will be determined based on the unique values.\n",
      "If you want the future behaviour and silence this warning, you can specify \"categories='auto'\".\n",
      "In case you used a LabelEncoder before this OneHotEncoder to convert the categories to integers, then you can now use the OneHotEncoder directly.\n",
      "  warnings.warn(msg, FutureWarning)\n",
      "C:\\Users\\Sai\\Anaconda3\\lib\\site-packages\\sklearn\\linear_model\\logistic.py:433: FutureWarning: Default solver will be changed to 'lbfgs' in 0.22. Specify a solver to silence this warning.\n",
      "  FutureWarning)\n",
      "C:\\Users\\Sai\\Anaconda3\\lib\\site-packages\\sklearn\\preprocessing\\_encoders.py:368: FutureWarning: The handling of integer data will change in version 0.22. Currently, the categories are determined based on the range [0, max(values)], while in the future they will be determined based on the unique values.\n",
      "If you want the future behaviour and silence this warning, you can specify \"categories='auto'\".\n",
      "In case you used a LabelEncoder before this OneHotEncoder to convert the categories to integers, then you can now use the OneHotEncoder directly.\n",
      "  warnings.warn(msg, FutureWarning)\n"
     ]
    }
   ],
   "source": [
    "import numpy as np\n",
    "import pandas as pd\n",
    "\n",
    "from sklearn.linear_model import LogisticRegression\n",
    "\n",
    "# 学習データの読み込み\n",
    "df = load_train_data()\n",
    "# 学習データの特徴量\n",
    "# x_train = df.drop(['Survived', 'Name', 'Ticket', 'Fare', 'Cabin', 'Embarked'], axis=1)\n",
    "x_train = df.loc[:,['Sex']]\n",
    "# # 学習データのラベル\n",
    "y_train = df['Survived'].values\n",
    "\n",
    "import sklearn.preprocessing as sp\n",
    "\n",
    "# 性別を数字に変換\n",
    "le = sp.LabelEncoder()\n",
    "le.fit(x_train.Sex.unique())\n",
    "x_train.Sex = le.fit_transform(x_train.Sex)\n",
    "# 性別をonehot表現に\n",
    "one = sp.OneHotEncoder()\n",
    "enced = one.fit_transform(x_train.Sex.values.reshape(1, -1).transpose())\n",
    "# enced = one.fit_transform(x_train.Sex.values)\n",
    "temp = pd.DataFrame(index=df.Sex.index, columns='Sex-' + le.classes_, data=enced.toarray())\n",
    "enced_data = pd.concat([x_train, temp], axis=1)\n",
    "del enced_data['Sex']\n",
    "enced_data\n",
    "\n",
    "# # 欠損値補完\n",
    "# # df.isnull().any(axis=0)\n",
    "# # df.isnull().sum()\n",
    "# from sklearn.preprocessing import Imputer\n",
    "# im = Imputer(missing_values='NaN', strategy='mean', axis=0)\n",
    "# enced_data = im.fit_transform(enced_data)\n",
    "\n",
    "# ロジスティック回帰を使用\n",
    "clf = LogisticRegression(random_state=0)\n",
    "# 学習\n",
    "clf.fit(enced_data, y_train)\n",
    "\n",
    "# テストデータの読み込み\n",
    "df_test = load_test_data()\n",
    "# x_test = df_test.drop(['Name', 'Ticket', 'Fare', 'Cabin', 'Embarked'], axis=1)\n",
    "x_test = df_test.loc[:,['Sex']]\n",
    "x_test.Sex = le.fit_transform(x_test.Sex)\n",
    "enced_test = one.fit_transform(x_test.Sex.values.reshape(1, -1).transpose())\n",
    "temp_test = pd.DataFrame(index=df_test.Sex.index, columns='Sex-' + le.classes_, data=enced_test.toarray())\n",
    "enced_data_test = pd.concat([x_test, temp_test], axis=1)\n",
    "del enced_data_test['Sex']\n",
    "enced_data_test\n",
    "# im = Imputer(missing_values='NaN', strategy='mean', axis=0)\n",
    "# enced_data_test = im.fit_transform(enced_data_test)\n",
    "# テスト\n",
    "pred_test = clf.predict(enced_data_test)\n",
    "\n",
    "# テストの答え合わせ\n",
    "df_result = pd.read_csv('./gender_submission.csv')\n",
    "act = df_result['Survived']\n",
    "ac = np.sum(pred_test == act ) / len(pred_test)\n",
    "print(ac)"
   ]
  },
  {
   "cell_type": "code",
   "execution_count": 10,
   "metadata": {},
   "outputs": [
    {
     "data": {
      "text/plain": [
       "Index(['Sibsb', 'Parch'], dtype='object')"
      ]
     },
     "execution_count": 10,
     "metadata": {},
     "output_type": "execute_result"
    }
   ],
   "source": [
    "x_train.columns"
   ]
  },
  {
   "cell_type": "code",
   "execution_count": null,
   "metadata": {},
   "outputs": [],
   "source": []
  }
 ],
 "metadata": {
  "kernelspec": {
   "display_name": "Python 3",
   "language": "python",
   "name": "python3"
  },
  "language_info": {
   "codemirror_mode": {
    "name": "ipython",
    "version": 3
   },
   "file_extension": ".py",
   "mimetype": "text/x-python",
   "name": "python",
   "nbconvert_exporter": "python",
   "pygments_lexer": "ipython3",
   "version": "3.7.1"
  }
 },
 "nbformat": 4,
 "nbformat_minor": 2
}
